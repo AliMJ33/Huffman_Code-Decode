{
 "cells": [
  {
   "cell_type": "code",
   "execution_count": 4,
   "metadata": {},
   "outputs": [
    {
     "name": "stdout",
     "output_type": "stream",
     "text": [
      "[['0', 0.49], ['10', 0.26], ['110', 0.12], ['1110', 0.04], ['11110', 0.04], ['111110', 0.03], ['1111110', 0.01], ['1111111', 0.01]]\n"
     ]
    }
   ],
   "source": [
    "import numpy as np\n",
    "from operator import itemgetter\n",
    "\n",
    "p1 = 0.49; p2 = 0.26; p3 = 0.12; p4 = 0.04; p5 = 0.04; p6 = 0.03; p7 = 0.01; p8 = 0.01      # Probabilities of each characters occurrence.\n",
    "x1 = \"x1\"; x2 = \"x2\"; x3 = \"x3\"; x4 = \"x4\"; x5 = \"x5\"; x6 = \"x6\"; x7 = \"x7\"; x8 = \"x8\"      # Example entered characters.\n",
    "data = [[x5, p5], [x2, p2], [x8, p8], [x1, p1], [x3, p3], [x6, p6], [x7, p7], [x4, p4]]\n",
    "\n",
    "data = sorted(data, key= itemgetter(0), reverse=False)\n",
    "for i in range(len(data)):\n",
    "    if i == len(data)-1:\n",
    "        data[i][0] = \"1\"* i\n",
    "        continue\n",
    "        \n",
    "    data[0][0] = \"0\"\n",
    "\n",
    "    data[i+1][0] = \"1\"+ data[i][0]\n",
    "\n",
    "print(data)"
   ]
  },
  {
   "cell_type": "markdown",
   "metadata": {},
   "source": [
    "Part1:"
   ]
  },
  {
   "cell_type": "code",
   "execution_count": 11,
   "metadata": {},
   "outputs": [
    {
     "name": "stdout",
     "output_type": "stream",
     "text": [
      "Entered data is: [['e', 0.3], ['a', 0.3], ['c', 0.15], ['t', 0.25]]\n",
      "Sorted data is: [['e', 0.3], ['a', 0.3], ['t', 0.25], ['c', 0.15]]\n",
      "Coded data is: [['0', 0.3], ['10', 0.3], ['110', 0.25], ['111', 0.15]]\n"
     ]
    }
   ],
   "source": [
    "from operator import itemgetter\n",
    "def Hof_code():   \n",
    "    data=[]\n",
    "    while(True):\n",
    "        x = input(\"Enter character: \")\n",
    "        if x == \"\":\n",
    "            break\n",
    "        p = float(input(\"Enter the probability: \"))\n",
    "        data.append([x,p])\n",
    "    print(f\"Entered data is: {data}\")\n",
    "    data = sorted(data, key= itemgetter(1), reverse=True)\n",
    "    print(f\"Sorted data is: {data}\")\n",
    "    for i in range(len(data)):\n",
    "        if i == len(data)-1:\n",
    "            data[i][0] = \"1\"* i\n",
    "            continue\n",
    "            \n",
    "        data[0][0] = \"0\"\n",
    "\n",
    "        data[i+1][0] = \"1\"+ data[i][0]\n",
    "    return data\n",
    "\n",
    "print(f\"Coded data is: {Hof_code()}\")"
   ]
  },
  {
   "cell_type": "code",
   "execution_count": null,
   "metadata": {},
   "outputs": [
    {
     "name": "stdout",
     "output_type": "stream",
     "text": [
      "[['x1', 0.35], ['x2', 0.3], ['x3', 0.2], ['x4', 0.1], ['x5', 0.04], ['x6', 0.005], ['x7', 0.005]]\n"
     ]
    }
   ],
   "source": [
    "from operator import itemgetter\n",
    "p1 = 0.35; p2 = 0.3; p3 = 0.2; p4 = 0.1; p5 = 0.04; p6 = 0.005; p7 = 0.005\n",
    "x1 = \"x1\"; x2 = \"x2\"; x3 = \"x3\"; x4 = \"x4\"; x5 = \"x5\"; x6 = \"x6\"; x7 = \"x7\"\n",
    "\n",
    "data = [[x6, p6], [x2, p2], [x1, p1], [x3, p3], [x4, p4], [x5, p5], [x7, p7]]\n",
    "print(sorted(data, key= itemgetter(0), reverse=False))\n"
   ]
  },
  {
   "cell_type": "code",
   "execution_count": 2,
   "metadata": {},
   "outputs": [
    {
     "name": "stdout",
     "output_type": "stream",
     "text": [
      "x7\n",
      "x1\n",
      "x3\n",
      "x2\n",
      "x4\n",
      "x6\n",
      "x5\n",
      "x1\n"
     ]
    }
   ],
   "source": [
    "from operator import itemgetter\n",
    "\n",
    "data = ['111111', '0', '110', '10', '1110', '111110', '11110', \"0\"]     # Received Coded data\n",
    "\n",
    "p1 = 0.35; p2 = 0.3; p3 = 0.2; p4 = 0.1; p5 = 0.04; p6 = 0.005; p7 = 0.005\n",
    "x1 = \"x1\"; x2 = \"x2\"; x3 = \"x3\"; x4 = \"x4\"; x5 = \"x5\"; x6 = \"x6\"; x7 = \"x7\"\n",
    "\n",
    "predata = [[x6, p6], [x2, p2], [x1, p1], [x3, p3], [x4, p4], [x5, p5], [x7, p7]]\n",
    "predata = sorted(predata, key= itemgetter(1), reverse=True)\n",
    "\n",
    "# Decoding:\n",
    "for i in range(len(data)):\n",
    "    index = data[i].count(\"1\")\n",
    "    print(predata[index][0])"
   ]
  },
  {
   "cell_type": "markdown",
   "metadata": {},
   "source": [
    "Part2: (Complete)"
   ]
  },
  {
   "cell_type": "code",
   "execution_count": null,
   "metadata": {},
   "outputs": [
    {
     "name": "stdout",
     "output_type": "stream",
     "text": [
      "The input Hoffman code is:  ['1110', '0', '0', '11111', '11111', '10', '11110']\n",
      "[['e', 0.25], ['i', 0.25], ['d', 0.2], ['f', 0.1], ['g', 0.1], ['l', 0.1]]\n",
      "f\n",
      "e\n",
      "e\n",
      "l\n",
      "l\n",
      "i\n",
      "g\n"
     ]
    }
   ],
   "source": [
    "from operator import itemgetter\n",
    "\n",
    "data=[]\n",
    "while(True):\n",
    "    x = input(\"Enter data: \")\n",
    "    if x == \"\":\n",
    "        break\n",
    "    data.append(x)\n",
    "print(\"The input Hoffman code is: \", data)\n",
    "\n",
    "predata = []\n",
    "while(True):\n",
    "    prex = input(\"Enter character: \")\n",
    "    if prex == \"\":\n",
    "        break\n",
    "    prep = float(input(\"Enter the probability: \"))\n",
    "    predata.append([prex,prep])\n",
    "\n",
    "predata = sorted(predata, key= itemgetter(1), reverse=True)\n",
    "\n",
    "print(predata)\n",
    "\n",
    "for i in range(len(data)):\n",
    "    index = data[i].count(\"1\")\n",
    "    print(predata[index][0])"
   ]
  }
 ],
 "metadata": {
  "kernelspec": {
   "display_name": "base",
   "language": "python",
   "name": "python3"
  },
  "language_info": {
   "codemirror_mode": {
    "name": "ipython",
    "version": 3
   },
   "file_extension": ".py",
   "mimetype": "text/x-python",
   "name": "python",
   "nbconvert_exporter": "python",
   "pygments_lexer": "ipython3",
   "version": "3.9.7"
  }
 },
 "nbformat": 4,
 "nbformat_minor": 2
}
